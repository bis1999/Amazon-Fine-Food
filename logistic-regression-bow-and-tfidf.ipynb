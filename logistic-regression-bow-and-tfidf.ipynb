{
 "cells": [
  {
   "cell_type": "code",
   "execution_count": 1,
   "metadata": {},
   "outputs": [],
   "source": [
    "import pandas as pd\n",
    "import numpy as np\n",
    "import matplotlib.pyplot as plt\n",
    "import warnings\n",
    "warnings.filterwarnings(\"ignore\")\n",
    "\n",
    "#NLTK\n",
    "from nltk.tokenize import RegexpTokenizer\n",
    "from nltk.corpus import stopwords\n",
    "from nltk.stem.snowball import SnowballStemmer\n",
    "\n",
    "\n",
    "from sklearn.model_selection import GridSearchCV\n",
    "from scipy.stats import uniform\n",
    "\n",
    "from sklearn.metrics import f1_score, auc, precision_recall_curve, average_precision_score\n",
    "from sklearn.metrics import auc\n",
    "from sklearn.preprocessing import StandardScaler\n",
    "from sklearn.model_selection import train_test_split,TimeSeriesSplit\n",
    "from sklearn.feature_extraction.text import CountVectorizer, TfidfVectorizer\n",
    "\n",
    "\n",
    "from sklearn.model_selection import TimeSeriesSplit\n",
    "from sklearn.model_selection import RandomizedSearchCV\n",
    "from sklearn.linear_model import LogisticRegression\n",
    "from sklearn.metrics import roc_auc_score\n",
    "from sklearn.metrics import roc_curve\n",
    "from sklearn.metrics import precision_score\n",
    "from sklearn.metrics import recall_score\n",
    "from sklearn.metrics import auc\n",
    "from sklearn.metrics import confusion_matrix"
   ]
  },
  {
   "cell_type": "code",
   "execution_count": 2,
   "metadata": {},
   "outputs": [],
   "source": [
    "# importing the data set \n",
    "data = pd.read_csv(\"../input/Reviews.csv\")\n"
   ]
  },
  {
   "cell_type": "code",
   "execution_count": 3,
   "metadata": {},
   "outputs": [
    {
     "data": {
      "text/html": [
       "<div>\n",
       "<style scoped>\n",
       "    .dataframe tbody tr th:only-of-type {\n",
       "        vertical-align: middle;\n",
       "    }\n",
       "\n",
       "    .dataframe tbody tr th {\n",
       "        vertical-align: top;\n",
       "    }\n",
       "\n",
       "    .dataframe thead th {\n",
       "        text-align: right;\n",
       "    }\n",
       "</style>\n",
       "<table border=\"1\" class=\"dataframe\">\n",
       "  <thead>\n",
       "    <tr style=\"text-align: right;\">\n",
       "      <th></th>\n",
       "      <th>Id</th>\n",
       "      <th>ProductId</th>\n",
       "      <th>UserId</th>\n",
       "      <th>ProfileName</th>\n",
       "      <th>HelpfulnessNumerator</th>\n",
       "      <th>HelpfulnessDenominator</th>\n",
       "      <th>Score</th>\n",
       "      <th>Time</th>\n",
       "      <th>Summary</th>\n",
       "      <th>Text</th>\n",
       "    </tr>\n",
       "  </thead>\n",
       "  <tbody>\n",
       "    <tr>\n",
       "      <th>0</th>\n",
       "      <td>1</td>\n",
       "      <td>B001E4KFG0</td>\n",
       "      <td>A3SGXH7AUHU8GW</td>\n",
       "      <td>delmartian</td>\n",
       "      <td>1</td>\n",
       "      <td>1</td>\n",
       "      <td>5</td>\n",
       "      <td>1303862400</td>\n",
       "      <td>Good Quality Dog Food</td>\n",
       "      <td>I have bought several of the Vitality canned d...</td>\n",
       "    </tr>\n",
       "    <tr>\n",
       "      <th>1</th>\n",
       "      <td>2</td>\n",
       "      <td>B00813GRG4</td>\n",
       "      <td>A1D87F6ZCVE5NK</td>\n",
       "      <td>dll pa</td>\n",
       "      <td>0</td>\n",
       "      <td>0</td>\n",
       "      <td>1</td>\n",
       "      <td>1346976000</td>\n",
       "      <td>Not as Advertised</td>\n",
       "      <td>Product arrived labeled as Jumbo Salted Peanut...</td>\n",
       "    </tr>\n",
       "    <tr>\n",
       "      <th>2</th>\n",
       "      <td>3</td>\n",
       "      <td>B000LQOCH0</td>\n",
       "      <td>ABXLMWJIXXAIN</td>\n",
       "      <td>Natalia Corres \"Natalia Corres\"</td>\n",
       "      <td>1</td>\n",
       "      <td>1</td>\n",
       "      <td>4</td>\n",
       "      <td>1219017600</td>\n",
       "      <td>\"Delight\" says it all</td>\n",
       "      <td>This is a confection that has been around a fe...</td>\n",
       "    </tr>\n",
       "    <tr>\n",
       "      <th>3</th>\n",
       "      <td>4</td>\n",
       "      <td>B000UA0QIQ</td>\n",
       "      <td>A395BORC6FGVXV</td>\n",
       "      <td>Karl</td>\n",
       "      <td>3</td>\n",
       "      <td>3</td>\n",
       "      <td>2</td>\n",
       "      <td>1307923200</td>\n",
       "      <td>Cough Medicine</td>\n",
       "      <td>If you are looking for the secret ingredient i...</td>\n",
       "    </tr>\n",
       "    <tr>\n",
       "      <th>4</th>\n",
       "      <td>5</td>\n",
       "      <td>B006K2ZZ7K</td>\n",
       "      <td>A1UQRSCLF8GW1T</td>\n",
       "      <td>Michael D. Bigham \"M. Wassir\"</td>\n",
       "      <td>0</td>\n",
       "      <td>0</td>\n",
       "      <td>5</td>\n",
       "      <td>1350777600</td>\n",
       "      <td>Great taffy</td>\n",
       "      <td>Great taffy at a great price.  There was a wid...</td>\n",
       "    </tr>\n",
       "  </tbody>\n",
       "</table>\n",
       "</div>"
      ],
      "text/plain": [
       "   Id                        ...                                                                       Text\n",
       "0   1                        ...                          I have bought several of the Vitality canned d...\n",
       "1   2                        ...                          Product arrived labeled as Jumbo Salted Peanut...\n",
       "2   3                        ...                          This is a confection that has been around a fe...\n",
       "3   4                        ...                          If you are looking for the secret ingredient i...\n",
       "4   5                        ...                          Great taffy at a great price.  There was a wid...\n",
       "\n",
       "[5 rows x 10 columns]"
      ]
     },
     "execution_count": 3,
     "metadata": {},
     "output_type": "execute_result"
    }
   ],
   "source": [
    "data.head()"
   ]
  },
  {
   "cell_type": "markdown",
   "metadata": {},
   "source": [
    "Since we are doing sentimental analysis here,first we have to divide our reviews into positve and neagtive. So it would be benificial if we remvove neutral reviews or reviews with score 3"
   ]
  },
  {
   "cell_type": "code",
   "execution_count": 4,
   "metadata": {},
   "outputs": [
    {
     "name": "stdout",
     "output_type": "stream",
     "text": [
      "(525814, 10)\n"
     ]
    }
   ],
   "source": [
    "data = data[data[\"Score\"] != 3]\n",
    "print(data.shape)"
   ]
  },
  {
   "cell_type": "code",
   "execution_count": 5,
   "metadata": {
    "scrolled": true
   },
   "outputs": [],
   "source": [
    "def new_score(y):\n",
    "    \n",
    "    if y < 3:\n",
    "        return 0\n",
    "    else:\n",
    "        return 1\n",
    "    \n",
    "       \n",
    "data['new_score'] = data['Score'].map(new_score)\n",
    "\n",
    "data.drop('Score',axis=1,inplace=True)\n"
   ]
  },
  {
   "cell_type": "code",
   "execution_count": 6,
   "metadata": {
    "scrolled": true
   },
   "outputs": [
    {
     "data": {
      "image/png": "[encoded data removed]",
      "text/plain": [
       "<Figure size 432x288 with 1 Axes>"
      ]
     },
     "metadata": {
      "needs_background": "light"
     },
     "output_type": "display_data"
    }
   ],
   "source": [
    "values = data[\"new_score\"].value_counts()\n",
    "plt.bar((\"Positive\",\"Negative\"),(values[1],values[0]))\n",
    "plt.show()"
   ]
  },
  {
   "cell_type": "markdown",
   "metadata": {},
   "source": [
    "This shows that our data is higly imbalance .There are two options \n",
    "\n",
    "1)Oversampling - Creating more samples of minor class\n",
    "\n",
    "2)Undersampling - Reducing the sampled of major class\n",
    "\n",
    "Since that data is large,here I will be taking a sample which has 50% of positives and 50% of negatives reviews"
   ]
  },
  {
   "cell_type": "code",
   "execution_count": 7,
   "metadata": {},
   "outputs": [
    {
     "data": {
      "text/plain": [
       "1    443777\n",
       "0     82037\n",
       "Name: new_score, dtype: int64"
      ]
     },
     "execution_count": 7,
     "metadata": {},
     "output_type": "execute_result"
    }
   ],
   "source": [
    "values"
   ]
  },
  {
   "cell_type": "markdown",
   "metadata": {},
   "source": [
    "Therefore i will be taking 20,000 samples of positive samples and 20,000 of negative samples"
   ]
  },
  {
   "cell_type": "code",
   "execution_count": 8,
   "metadata": {},
   "outputs": [],
   "source": [
    "neg_rev= data[data[\"new_score\"] == 0][:25000]\n",
    "pos_rev = data[data[\"new_score\"] ==1][:25000]"
   ]
  },
  {
   "cell_type": "code",
   "execution_count": 9,
   "metadata": {},
   "outputs": [],
   "source": [
    "data_50 = pd.concat((neg_rev,pos_rev),axis=0)"
   ]
  },
  {
   "cell_type": "code",
   "execution_count": 10,
   "metadata": {},
   "outputs": [
    {
     "data": {
      "text/plain": [
       "(50000, 10)"
      ]
     },
     "execution_count": 10,
     "metadata": {},
     "output_type": "execute_result"
    }
   ],
   "source": [
    "data_50.shape"
   ]
  },
  {
   "cell_type": "markdown",
   "metadata": {},
   "source": [
    "Lets sort data acoorinf to productID"
   ]
  },
  {
   "cell_type": "code",
   "execution_count": 11,
   "metadata": {},
   "outputs": [],
   "source": [
    "data_50 = data_50.sort_values(\"ProductId\")"
   ]
  },
  {
   "cell_type": "code",
   "execution_count": 12,
   "metadata": {},
   "outputs": [
    {
     "data": {
      "text/html": [
       "<div>\n",
       "<style scoped>\n",
       "    .dataframe tbody tr th:only-of-type {\n",
       "        vertical-align: middle;\n",
       "    }\n",
       "\n",
       "    .dataframe tbody tr th {\n",
       "        vertical-align: top;\n",
       "    }\n",
       "\n",
       "    .dataframe thead th {\n",
       "        text-align: right;\n",
       "    }\n",
       "</style>\n",
       "<table border=\"1\" class=\"dataframe\">\n",
       "  <thead>\n",
       "    <tr style=\"text-align: right;\">\n",
       "      <th></th>\n",
       "      <th>Id</th>\n",
       "      <th>ProductId</th>\n",
       "      <th>UserId</th>\n",
       "      <th>ProfileName</th>\n",
       "      <th>HelpfulnessNumerator</th>\n",
       "      <th>HelpfulnessDenominator</th>\n",
       "      <th>Time</th>\n",
       "      <th>Summary</th>\n",
       "      <th>Text</th>\n",
       "      <th>new_score</th>\n",
       "    </tr>\n",
       "  </thead>\n",
       "  <tbody>\n",
       "    <tr>\n",
       "      <th>15030</th>\n",
       "      <td>15031</td>\n",
       "      <td>B0000CDBRZ</td>\n",
       "      <td>A253F3QA4WHGXU</td>\n",
       "      <td>Robert Hefferle \"HEFF\"</td>\n",
       "      <td>1</td>\n",
       "      <td>3</td>\n",
       "      <td>1319155200</td>\n",
       "      <td>Vegetable seasoning very spicy</td>\n",
       "      <td>Paul Prudhomme makes great seafood seasoning a...</td>\n",
       "      <td>0</td>\n",
       "    </tr>\n",
       "    <tr>\n",
       "      <th>15028</th>\n",
       "      <td>15029</td>\n",
       "      <td>B0000CDBRZ</td>\n",
       "      <td>A3C7U0DJHLBHZ3</td>\n",
       "      <td>K. Kozlowski</td>\n",
       "      <td>0</td>\n",
       "      <td>0</td>\n",
       "      <td>1330819200</td>\n",
       "      <td>best salty spice ever</td>\n",
       "      <td>What other spice would you buy in a 24 oz cont...</td>\n",
       "      <td>1</td>\n",
       "    </tr>\n",
       "    <tr>\n",
       "      <th>15026</th>\n",
       "      <td>15027</td>\n",
       "      <td>B0000CDBRZ</td>\n",
       "      <td>A1MUCR6OGBLH8Y</td>\n",
       "      <td>Kathleen M. Hansen \"Rose251\"</td>\n",
       "      <td>2</td>\n",
       "      <td>2</td>\n",
       "      <td>1291161600</td>\n",
       "      <td>Everyone ate their vegetables</td>\n",
       "      <td>I've been using this for at least 15 years.  S...</td>\n",
       "      <td>1</td>\n",
       "    </tr>\n",
       "    <tr>\n",
       "      <th>15024</th>\n",
       "      <td>15025</td>\n",
       "      <td>B0000CDBRZ</td>\n",
       "      <td>A3PLR0MF3ZU141</td>\n",
       "      <td>Michelle LInd \"Lorilou\"</td>\n",
       "      <td>5</td>\n",
       "      <td>5</td>\n",
       "      <td>1257379200</td>\n",
       "      <td>Chef Paul Prudhomme's Magic Seasoning Blends</td>\n",
       "      <td>I have been using different seasonings for yea...</td>\n",
       "      <td>1</td>\n",
       "    </tr>\n",
       "    <tr>\n",
       "      <th>15023</th>\n",
       "      <td>15024</td>\n",
       "      <td>B0000CDBRZ</td>\n",
       "      <td>A23JL9SHTJIKZT</td>\n",
       "      <td>CAForster</td>\n",
       "      <td>6</td>\n",
       "      <td>6</td>\n",
       "      <td>1182816000</td>\n",
       "      <td>I'd be lost without this product!</td>\n",
       "      <td>Ever wonder why veggies at restaurants taste b...</td>\n",
       "      <td>1</td>\n",
       "    </tr>\n",
       "    <tr>\n",
       "      <th>15029</th>\n",
       "      <td>15030</td>\n",
       "      <td>B0000CDBRZ</td>\n",
       "      <td>A3VFFBBDQ8E6TM</td>\n",
       "      <td>Terri Linzmeier \"Terri J\"</td>\n",
       "      <td>0</td>\n",
       "      <td>0</td>\n",
       "      <td>1325030400</td>\n",
       "      <td>LOVE THIS STUFF</td>\n",
       "      <td>I put it on fries, broiled veges, in stir fry,...</td>\n",
       "      <td>1</td>\n",
       "    </tr>\n",
       "    <tr>\n",
       "      <th>15027</th>\n",
       "      <td>15028</td>\n",
       "      <td>B0000CDBRZ</td>\n",
       "      <td>A1XL8WOEFCS1J1</td>\n",
       "      <td>Stacey S. Storck</td>\n",
       "      <td>2</td>\n",
       "      <td>2</td>\n",
       "      <td>1283644800</td>\n",
       "      <td>Chef Paul's Vegetable Magic</td>\n",
       "      <td>I love this seasoning. I use it on all of my v...</td>\n",
       "      <td>1</td>\n",
       "    </tr>\n",
       "    <tr>\n",
       "      <th>15025</th>\n",
       "      <td>15026</td>\n",
       "      <td>B0000CDBRZ</td>\n",
       "      <td>AVYJX4FYVF00A</td>\n",
       "      <td>Chris32</td>\n",
       "      <td>3</td>\n",
       "      <td>3</td>\n",
       "      <td>1292803200</td>\n",
       "      <td>Excellent !</td>\n",
       "      <td>The original product came with the foil seal o...</td>\n",
       "      <td>1</td>\n",
       "    </tr>\n",
       "    <tr>\n",
       "      <th>139373</th>\n",
       "      <td>139374</td>\n",
       "      <td>B0000CGDUK</td>\n",
       "      <td>A2PVQOXIZBW0S8</td>\n",
       "      <td>Kimberly Alcibiade</td>\n",
       "      <td>1</td>\n",
       "      <td>2</td>\n",
       "      <td>1344384000</td>\n",
       "      <td>Not worth it.</td>\n",
       "      <td>This coffee tastes like any other. I highly do...</td>\n",
       "      <td>0</td>\n",
       "    </tr>\n",
       "    <tr>\n",
       "      <th>139377</th>\n",
       "      <td>139378</td>\n",
       "      <td>B0000CGDUK</td>\n",
       "      <td>A3TP5Y45OWOFCH</td>\n",
       "      <td>V. LAMET</td>\n",
       "      <td>2</td>\n",
       "      <td>8</td>\n",
       "      <td>1240876800</td>\n",
       "      <td>Disappointed</td>\n",
       "      <td>I was disappointed because I didn't pay attent...</td>\n",
       "      <td>0</td>\n",
       "    </tr>\n",
       "    <tr>\n",
       "      <th>139374</th>\n",
       "      <td>139375</td>\n",
       "      <td>B0000CGDUK</td>\n",
       "      <td>A2WEL5QJZBOH6C</td>\n",
       "      <td>KENNETH BRENIZER</td>\n",
       "      <td>1</td>\n",
       "      <td>3</td>\n",
       "      <td>1329177600</td>\n",
       "      <td>tree bark taste better so OLD.........</td>\n",
       "      <td>I've worked in a few Coffee houses and this is...</td>\n",
       "      <td>0</td>\n",
       "    </tr>\n",
       "    <tr>\n",
       "      <th>139375</th>\n",
       "      <td>139376</td>\n",
       "      <td>B0000CGDUK</td>\n",
       "      <td>A1WQO4MLT2EIUR</td>\n",
       "      <td>Lise Shigenaga Barker</td>\n",
       "      <td>2</td>\n",
       "      <td>5</td>\n",
       "      <td>1246233600</td>\n",
       "      <td>Old merchandise</td>\n",
       "      <td>I purchased this coffee for my mother for Moth...</td>\n",
       "      <td>0</td>\n",
       "    </tr>\n",
       "    <tr>\n",
       "      <th>40916</th>\n",
       "      <td>40917</td>\n",
       "      <td>B0000DJ87Q</td>\n",
       "      <td>A2ZLOGO7IQ025K</td>\n",
       "      <td>x0J0x</td>\n",
       "      <td>0</td>\n",
       "      <td>0</td>\n",
       "      <td>1343692800</td>\n",
       "      <td>It's OK but it definitely does NOT taste like ...</td>\n",
       "      <td>Anyone who is a fan of the Mahi-Mahi fish know...</td>\n",
       "      <td>0</td>\n",
       "    </tr>\n",
       "    <tr>\n",
       "      <th>83853</th>\n",
       "      <td>83854</td>\n",
       "      <td>B0000SY9UE</td>\n",
       "      <td>A3543CUCHI6IM7</td>\n",
       "      <td>David T. Williams</td>\n",
       "      <td>0</td>\n",
       "      <td>0</td>\n",
       "      <td>1272844800</td>\n",
       "      <td>ESE users - keep moving</td>\n",
       "      <td>Product looked and smelled great - however, it...</td>\n",
       "      <td>0</td>\n",
       "    </tr>\n",
       "    <tr>\n",
       "      <th>83847</th>\n",
       "      <td>83848</td>\n",
       "      <td>B0000SY9UE</td>\n",
       "      <td>A34I0I4R5UME1J</td>\n",
       "      <td>3X</td>\n",
       "      <td>2</td>\n",
       "      <td>2</td>\n",
       "      <td>1268870400</td>\n",
       "      <td>Inferior Coffee</td>\n",
       "      <td>Aloha Island Coffee Company Bonzai Pipeline Da...</td>\n",
       "      <td>0</td>\n",
       "    </tr>\n",
       "    <tr>\n",
       "      <th>56481</th>\n",
       "      <td>56482</td>\n",
       "      <td>B0000VYKZA</td>\n",
       "      <td>AM4UVNWCW9NJE</td>\n",
       "      <td>iansomniak</td>\n",
       "      <td>0</td>\n",
       "      <td>2</td>\n",
       "      <td>1192233600</td>\n",
       "      <td>Well, if this doesn't wake you up, NOTHING will.</td>\n",
       "      <td>The folks at Starbucks are not exaggerating wh...</td>\n",
       "      <td>0</td>\n",
       "    </tr>\n",
       "    <tr>\n",
       "      <th>102692</th>\n",
       "      <td>102693</td>\n",
       "      <td>B00013UQP0</td>\n",
       "      <td>A33YJAA15B73VO</td>\n",
       "      <td>Joshua Rubin</td>\n",
       "      <td>2</td>\n",
       "      <td>8</td>\n",
       "      <td>1213056000</td>\n",
       "      <td>more like oregano</td>\n",
       "      <td>I was disappointed by these eucalyptus leaves ...</td>\n",
       "      <td>0</td>\n",
       "    </tr>\n",
       "    <tr>\n",
       "      <th>2336</th>\n",
       "      <td>2337</td>\n",
       "      <td>B0001FQVCK</td>\n",
       "      <td>A5D06XJHDXK75</td>\n",
       "      <td>C. Po</td>\n",
       "      <td>1</td>\n",
       "      <td>1</td>\n",
       "      <td>1190592000</td>\n",
       "      <td>Baci's are pure heaven - great gift, stocking ...</td>\n",
       "      <td>My family has been in love with Baci's ever si...</td>\n",
       "      <td>1</td>\n",
       "    </tr>\n",
       "    <tr>\n",
       "      <th>20704</th>\n",
       "      <td>20705</td>\n",
       "      <td>B0001IVR8A</td>\n",
       "      <td>A1C0RNBN2ZFRQZ</td>\n",
       "      <td>Virginia</td>\n",
       "      <td>2</td>\n",
       "      <td>3</td>\n",
       "      <td>1264464000</td>\n",
       "      <td>Meh.</td>\n",
       "      <td>For some reason my husband ordered a TON of th...</td>\n",
       "      <td>0</td>\n",
       "    </tr>\n",
       "    <tr>\n",
       "      <th>29</th>\n",
       "      <td>30</td>\n",
       "      <td>B0001PB9FY</td>\n",
       "      <td>A3HDKO7OW0QNK4</td>\n",
       "      <td>Canadian Fan</td>\n",
       "      <td>1</td>\n",
       "      <td>1</td>\n",
       "      <td>1107820800</td>\n",
       "      <td>The Best Hot Sauce in the World</td>\n",
       "      <td>I don't know if it's the cactus or the tequila...</td>\n",
       "      <td>1</td>\n",
       "    </tr>\n",
       "    <tr>\n",
       "      <th>4677</th>\n",
       "      <td>4678</td>\n",
       "      <td>B0001VWDO4</td>\n",
       "      <td>A35GBC9DGU1NRO</td>\n",
       "      <td>C. B. Reyes Avila \"cbra\"</td>\n",
       "      <td>1</td>\n",
       "      <td>1</td>\n",
       "      <td>1179273600</td>\n",
       "      <td>Smells!</td>\n",
       "      <td>It is very strong and pure! you just need a li...</td>\n",
       "      <td>1</td>\n",
       "    </tr>\n",
       "    <tr>\n",
       "      <th>2323</th>\n",
       "      <td>2324</td>\n",
       "      <td>B0001VWE0C</td>\n",
       "      <td>AQM74O8Z4FMS0</td>\n",
       "      <td>Sunshine</td>\n",
       "      <td>0</td>\n",
       "      <td>0</td>\n",
       "      <td>1127606400</td>\n",
       "      <td>Below standard</td>\n",
       "      <td>Too much of the white pith on this orange peel...</td>\n",
       "      <td>0</td>\n",
       "    </tr>\n",
       "    <tr>\n",
       "      <th>2309</th>\n",
       "      <td>2310</td>\n",
       "      <td>B0001VWE0M</td>\n",
       "      <td>AQM74O8Z4FMS0</td>\n",
       "      <td>Sunshine</td>\n",
       "      <td>0</td>\n",
       "      <td>0</td>\n",
       "      <td>1127606400</td>\n",
       "      <td>Below standard</td>\n",
       "      <td>Too much of the white pith on this orange peel...</td>\n",
       "      <td>0</td>\n",
       "    </tr>\n",
       "    <tr>\n",
       "      <th>10381</th>\n",
       "      <td>10382</td>\n",
       "      <td>B0001VWGWI</td>\n",
       "      <td>A1IWZAYY9GTLGL</td>\n",
       "      <td>concurrent1 \"concurrent1\"</td>\n",
       "      <td>0</td>\n",
       "      <td>0</td>\n",
       "      <td>1334966400</td>\n",
       "      <td>Best chili powder I ever tried!</td>\n",
       "      <td>I had a recipe that called for a lot of dark c...</td>\n",
       "      <td>1</td>\n",
       "    </tr>\n",
       "    <tr>\n",
       "      <th>10359</th>\n",
       "      <td>10360</td>\n",
       "      <td>B0001VWGWS</td>\n",
       "      <td>A1IWZAYY9GTLGL</td>\n",
       "      <td>concurrent1 \"concurrent1\"</td>\n",
       "      <td>0</td>\n",
       "      <td>0</td>\n",
       "      <td>1334966400</td>\n",
       "      <td>Best chili powder I ever tried!</td>\n",
       "      <td>I had a recipe that called for a lot of dark c...</td>\n",
       "      <td>1</td>\n",
       "    </tr>\n",
       "    <tr>\n",
       "      <th>15527</th>\n",
       "      <td>15528</td>\n",
       "      <td>B000255OIG</td>\n",
       "      <td>AJD41FBJD9010</td>\n",
       "      <td>N. Ferguson \"Two, Daisy, Hannah, and Kitten\"</td>\n",
       "      <td>0</td>\n",
       "      <td>0</td>\n",
       "      <td>1233360000</td>\n",
       "      <td>best dog treat-- great for training---  all do...</td>\n",
       "      <td>Freeze dried liver has a hypnotic effect on do...</td>\n",
       "      <td>1</td>\n",
       "    </tr>\n",
       "    <tr>\n",
       "      <th>15597</th>\n",
       "      <td>15598</td>\n",
       "      <td>B000255OIG</td>\n",
       "      <td>AJD41FBJD9010</td>\n",
       "      <td>N. Ferguson \"Two, Daisy, Hannah, and Kitten\"</td>\n",
       "      <td>1</td>\n",
       "      <td>1</td>\n",
       "      <td>1233360000</td>\n",
       "      <td>best dog treat-- great for training---  all do...</td>\n",
       "      <td>Freeze dried liver has a hypnotic effect on do...</td>\n",
       "      <td>1</td>\n",
       "    </tr>\n",
       "    <tr>\n",
       "      <th>15560</th>\n",
       "      <td>15561</td>\n",
       "      <td>B000255OIG</td>\n",
       "      <td>A12OC9ZA779927</td>\n",
       "      <td>Nancy Watts \"Nan Watts\"</td>\n",
       "      <td>1</td>\n",
       "      <td>22</td>\n",
       "      <td>1134172800</td>\n",
       "      <td>no shipping charges in December if over $50 on...</td>\n",
       "      <td>Same price as Dr. Foster &amp; Smith.</td>\n",
       "      <td>0</td>\n",
       "    </tr>\n",
       "    <tr>\n",
       "      <th>15554</th>\n",
       "      <td>15555</td>\n",
       "      <td>B000255OIG</td>\n",
       "      <td>A2WDF9UM0M1VAD</td>\n",
       "      <td>susan m. kaitz</td>\n",
       "      <td>3</td>\n",
       "      <td>6</td>\n",
       "      <td>1317859200</td>\n",
       "      <td>Review of Freeze Dried Liver Treats For Dogs</td>\n",
       "      <td>I received all containers previously opened - ...</td>\n",
       "      <td>0</td>\n",
       "    </tr>\n",
       "    <tr>\n",
       "      <th>15556</th>\n",
       "      <td>15557</td>\n",
       "      <td>B000255OIG</td>\n",
       "      <td>ANW9G620WDPVE</td>\n",
       "      <td>Kay M \"kay\"</td>\n",
       "      <td>2</td>\n",
       "      <td>7</td>\n",
       "      <td>1237334400</td>\n",
       "      <td>great treat, but too expensive</td>\n",
       "      <td>okay, it's freeze-dried liver cube-lets.  my c...</td>\n",
       "      <td>0</td>\n",
       "    </tr>\n",
       "    <tr>\n",
       "      <th>...</th>\n",
       "      <td>...</td>\n",
       "      <td>...</td>\n",
       "      <td>...</td>\n",
       "      <td>...</td>\n",
       "      <td>...</td>\n",
       "      <td>...</td>\n",
       "      <td>...</td>\n",
       "      <td>...</td>\n",
       "      <td>...</td>\n",
       "      <td>...</td>\n",
       "    </tr>\n",
       "    <tr>\n",
       "      <th>133170</th>\n",
       "      <td>133171</td>\n",
       "      <td>B0090X8IPM</td>\n",
       "      <td>A2ZHSXTQO831OS</td>\n",
       "      <td>Karen Tiede</td>\n",
       "      <td>0</td>\n",
       "      <td>0</td>\n",
       "      <td>1291161600</td>\n",
       "      <td>Great aroma, bad headache</td>\n",
       "      <td>Here's the conversation that took place at my ...</td>\n",
       "      <td>0</td>\n",
       "    </tr>\n",
       "    <tr>\n",
       "      <th>133023</th>\n",
       "      <td>133024</td>\n",
       "      <td>B0090X8IPM</td>\n",
       "      <td>A3T3S48UAVTUE9</td>\n",
       "      <td>JanFla \"Martial Artist\"</td>\n",
       "      <td>0</td>\n",
       "      <td>0</td>\n",
       "      <td>1292544000</td>\n",
       "      <td>Starbucks Fusions Vanilla</td>\n",
       "      <td>I anticipated the arrival of this product, but...</td>\n",
       "      <td>0</td>\n",
       "    </tr>\n",
       "    <tr>\n",
       "      <th>133033</th>\n",
       "      <td>133034</td>\n",
       "      <td>B0090X8IPM</td>\n",
       "      <td>A1VJ7HYM1EC94M</td>\n",
       "      <td>G P Padillo \"paolo\"</td>\n",
       "      <td>0</td>\n",
       "      <td>0</td>\n",
       "      <td>1292457600</td>\n",
       "      <td>Not so good.</td>\n",
       "      <td>I love coffee - even some \"flavored\" brews, pa...</td>\n",
       "      <td>0</td>\n",
       "    </tr>\n",
       "    <tr>\n",
       "      <th>132966</th>\n",
       "      <td>132967</td>\n",
       "      <td>B0090X8IPM</td>\n",
       "      <td>AGKSJ70C1ZBQD</td>\n",
       "      <td>dunkalicious</td>\n",
       "      <td>0</td>\n",
       "      <td>0</td>\n",
       "      <td>1296777600</td>\n",
       "      <td>Keep fusing</td>\n",
       "      <td>Unpleasant aftertaste, I bought this hoping I ...</td>\n",
       "      <td>0</td>\n",
       "    </tr>\n",
       "    <tr>\n",
       "      <th>133048</th>\n",
       "      <td>133049</td>\n",
       "      <td>B0090X8IPM</td>\n",
       "      <td>AKR4DH6WLF6GG</td>\n",
       "      <td>Linda Bulger</td>\n",
       "      <td>4</td>\n",
       "      <td>5</td>\n",
       "      <td>1291766400</td>\n",
       "      <td>It's coffee and vanilla, how bad can it be?</td>\n",
       "      <td>I'm not sure exactly why I thought I'd like th...</td>\n",
       "      <td>0</td>\n",
       "    </tr>\n",
       "    <tr>\n",
       "      <th>133150</th>\n",
       "      <td>133151</td>\n",
       "      <td>B0090X8IPM</td>\n",
       "      <td>A3O8Z6IZ0VU3BB</td>\n",
       "      <td>Laura M. Burgess \"Kindle Fan\"</td>\n",
       "      <td>1</td>\n",
       "      <td>1</td>\n",
       "      <td>1292976000</td>\n",
       "      <td>I really wanted to like this coffee!</td>\n",
       "      <td>I generally like Starbucks coffee, and really ...</td>\n",
       "      <td>0</td>\n",
       "    </tr>\n",
       "    <tr>\n",
       "      <th>132964</th>\n",
       "      <td>132965</td>\n",
       "      <td>B0090X8IPM</td>\n",
       "      <td>AC7AY7GU4GKID</td>\n",
       "      <td>Mom of the Year</td>\n",
       "      <td>0</td>\n",
       "      <td>0</td>\n",
       "      <td>1297555200</td>\n",
       "      <td>Yuck</td>\n",
       "      <td>Absolutely did not like this flavor at all.  I...</td>\n",
       "      <td>0</td>\n",
       "    </tr>\n",
       "    <tr>\n",
       "      <th>133157</th>\n",
       "      <td>133158</td>\n",
       "      <td>B0090X8IPM</td>\n",
       "      <td>A3G007LQX6KGOD</td>\n",
       "      <td>SevereWX</td>\n",
       "      <td>1</td>\n",
       "      <td>1</td>\n",
       "      <td>1292284800</td>\n",
       "      <td>Major Disappointment</td>\n",
       "      <td>I love vanilla flavored coffees. In fact, unti...</td>\n",
       "      <td>0</td>\n",
       "    </tr>\n",
       "    <tr>\n",
       "      <th>133208</th>\n",
       "      <td>133209</td>\n",
       "      <td>B0090X8IPM</td>\n",
       "      <td>AOXMWBNDZDJ9L</td>\n",
       "      <td>Chelsea Liddle</td>\n",
       "      <td>0</td>\n",
       "      <td>0</td>\n",
       "      <td>1290902400</td>\n",
       "      <td>Not so good</td>\n",
       "      <td>I should preface this review by noting that I ...</td>\n",
       "      <td>0</td>\n",
       "    </tr>\n",
       "    <tr>\n",
       "      <th>132958</th>\n",
       "      <td>132959</td>\n",
       "      <td>B0090X8IPM</td>\n",
       "      <td>A58F10T4OE58C</td>\n",
       "      <td>S. Montgomery \"green dad\"</td>\n",
       "      <td>0</td>\n",
       "      <td>0</td>\n",
       "      <td>1298246400</td>\n",
       "      <td>Strong Vanilla Flavor</td>\n",
       "      <td>I drink Starbucks coffee at home each morning....</td>\n",
       "      <td>0</td>\n",
       "    </tr>\n",
       "    <tr>\n",
       "      <th>102073</th>\n",
       "      <td>102074</td>\n",
       "      <td>B0090X8L72</td>\n",
       "      <td>A35L1TBNLNE9MR</td>\n",
       "      <td>Disappointed</td>\n",
       "      <td>1</td>\n",
       "      <td>3</td>\n",
       "      <td>1323216000</td>\n",
       "      <td>Not Gold Coast</td>\n",
       "      <td>Starbucks and Amazon thinks this coffee is Gol...</td>\n",
       "      <td>0</td>\n",
       "    </tr>\n",
       "    <tr>\n",
       "      <th>5439</th>\n",
       "      <td>5440</td>\n",
       "      <td>B0092X7B5S</td>\n",
       "      <td>A3IE8OGKQ0OCTE</td>\n",
       "      <td>Clifton Watson \"Jus' a simple man. Nothin' sp...</td>\n",
       "      <td>3</td>\n",
       "      <td>10</td>\n",
       "      <td>1211760000</td>\n",
       "      <td>A Surprising Blend of Bean and Apple</td>\n",
       "      <td>I wasn't sure what to expect from this Jelly B...</td>\n",
       "      <td>1</td>\n",
       "    </tr>\n",
       "    <tr>\n",
       "      <th>5438</th>\n",
       "      <td>5439</td>\n",
       "      <td>B0092X7B5S</td>\n",
       "      <td>AKD1SD4I503SH</td>\n",
       "      <td>Judith E. Golden</td>\n",
       "      <td>0</td>\n",
       "      <td>0</td>\n",
       "      <td>1278374400</td>\n",
       "      <td>My favorite Jelly Belly flavor</td>\n",
       "      <td>I have been a huge fan of Jelly Bellys since I...</td>\n",
       "      <td>1</td>\n",
       "    </tr>\n",
       "    <tr>\n",
       "      <th>31772</th>\n",
       "      <td>31773</td>\n",
       "      <td>B0092X7NGU</td>\n",
       "      <td>A1O1C1RWAZCW4S</td>\n",
       "      <td>AnGC</td>\n",
       "      <td>2</td>\n",
       "      <td>3</td>\n",
       "      <td>1309651200</td>\n",
       "      <td>Not what I thought</td>\n",
       "      <td>These jelly beans were very unusual when they ...</td>\n",
       "      <td>0</td>\n",
       "    </tr>\n",
       "    <tr>\n",
       "      <th>8901</th>\n",
       "      <td>8902</td>\n",
       "      <td>B0092X7OGY</td>\n",
       "      <td>A2DJFN6DQQ8WF9</td>\n",
       "      <td>E. Carr \"tinkerbelle\"</td>\n",
       "      <td>0</td>\n",
       "      <td>0</td>\n",
       "      <td>1244937600</td>\n",
       "      <td>Jelly Belly</td>\n",
       "      <td>Just because I sent an order of these jelly be...</td>\n",
       "      <td>1</td>\n",
       "    </tr>\n",
       "    <tr>\n",
       "      <th>8899</th>\n",
       "      <td>8900</td>\n",
       "      <td>B0092X7OGY</td>\n",
       "      <td>A2SIPYGHXKDRPR</td>\n",
       "      <td>M. Barnhill</td>\n",
       "      <td>1</td>\n",
       "      <td>1</td>\n",
       "      <td>1134518400</td>\n",
       "      <td>This is an amazing Jelly Bean</td>\n",
       "      <td>I have met the creator/inventor of the Jelly B...</td>\n",
       "      <td>1</td>\n",
       "    </tr>\n",
       "    <tr>\n",
       "      <th>8898</th>\n",
       "      <td>8899</td>\n",
       "      <td>B0092X7OGY</td>\n",
       "      <td>A1IU7S4HCK1XK0</td>\n",
       "      <td>Joanna Daneman</td>\n",
       "      <td>2</td>\n",
       "      <td>2</td>\n",
       "      <td>1109289600</td>\n",
       "      <td>The black bean rules!</td>\n",
       "      <td>The Jelly Belly people actually put real licor...</td>\n",
       "      <td>1</td>\n",
       "    </tr>\n",
       "    <tr>\n",
       "      <th>8900</th>\n",
       "      <td>8901</td>\n",
       "      <td>B0092X7OGY</td>\n",
       "      <td>A1O1C1RWAZCW4S</td>\n",
       "      <td>AnGC</td>\n",
       "      <td>2</td>\n",
       "      <td>3</td>\n",
       "      <td>1309651200</td>\n",
       "      <td>Not what I thought</td>\n",
       "      <td>These jelly beans were very unusual when they ...</td>\n",
       "      <td>0</td>\n",
       "    </tr>\n",
       "    <tr>\n",
       "      <th>141210</th>\n",
       "      <td>141211</td>\n",
       "      <td>B0093NILCY</td>\n",
       "      <td>A11RNMZNAO08F4</td>\n",
       "      <td>DEF867</td>\n",
       "      <td>0</td>\n",
       "      <td>0</td>\n",
       "      <td>1348963200</td>\n",
       "      <td>Terrible Packaging</td>\n",
       "      <td>We opened the box to find the jelly beans sitt...</td>\n",
       "      <td>0</td>\n",
       "    </tr>\n",
       "    <tr>\n",
       "      <th>85007</th>\n",
       "      <td>85008</td>\n",
       "      <td>B0094Z2EOW</td>\n",
       "      <td>AM4ICVNN9UGAG</td>\n",
       "      <td>John Nystrom</td>\n",
       "      <td>2</td>\n",
       "      <td>2</td>\n",
       "      <td>1306022400</td>\n",
       "      <td>Not as described</td>\n",
       "      <td>This is a 5 flavor assortment, not the 10 flav...</td>\n",
       "      <td>0</td>\n",
       "    </tr>\n",
       "    <tr>\n",
       "      <th>85005</th>\n",
       "      <td>85006</td>\n",
       "      <td>B0094Z2EOW</td>\n",
       "      <td>A46CBILU76CHM</td>\n",
       "      <td>N. Kirk</td>\n",
       "      <td>6</td>\n",
       "      <td>6</td>\n",
       "      <td>1279497600</td>\n",
       "      <td>Only 5 flavors, Not 10 as advertised</td>\n",
       "      <td>Really liked the 10 flavor sour mix from Jelly...</td>\n",
       "      <td>0</td>\n",
       "    </tr>\n",
       "    <tr>\n",
       "      <th>67507</th>\n",
       "      <td>67508</td>\n",
       "      <td>B009GHI6I6</td>\n",
       "      <td>A1HMEGR1W8V40U</td>\n",
       "      <td>Cath Curry</td>\n",
       "      <td>0</td>\n",
       "      <td>0</td>\n",
       "      <td>1349913600</td>\n",
       "      <td>All 3 of my cats refused to eat it</td>\n",
       "      <td>This comes in a case of 24 so I bought one can...</td>\n",
       "      <td>0</td>\n",
       "    </tr>\n",
       "    <tr>\n",
       "      <th>67508</th>\n",
       "      <td>67509</td>\n",
       "      <td>B009GHI6I6</td>\n",
       "      <td>A2VUD4SPJO4V33</td>\n",
       "      <td>Theo</td>\n",
       "      <td>0</td>\n",
       "      <td>0</td>\n",
       "      <td>1285891200</td>\n",
       "      <td>The worst snap-lock reseal ever made?</td>\n",
       "      <td>I feed Hills Science diet to my pet because I ...</td>\n",
       "      <td>0</td>\n",
       "    </tr>\n",
       "    <tr>\n",
       "      <th>67509</th>\n",
       "      <td>67510</td>\n",
       "      <td>B009GHI6I6</td>\n",
       "      <td>A3TVZM3ZIXG8YW</td>\n",
       "      <td>christopher hayes</td>\n",
       "      <td>7</td>\n",
       "      <td>11</td>\n",
       "      <td>1291420800</td>\n",
       "      <td>Filler food is empty, leaves your cat always n...</td>\n",
       "      <td>This review will make me sound really stupid, ...</td>\n",
       "      <td>0</td>\n",
       "    </tr>\n",
       "    <tr>\n",
       "      <th>67511</th>\n",
       "      <td>67512</td>\n",
       "      <td>B009GHI6I6</td>\n",
       "      <td>A2ISKAWUPGGOLZ</td>\n",
       "      <td>M. S. Handley</td>\n",
       "      <td>2</td>\n",
       "      <td>4</td>\n",
       "      <td>1310774400</td>\n",
       "      <td>Kitty Junk Food</td>\n",
       "      <td>We have five cats - one an elderly cat of 15 y...</td>\n",
       "      <td>0</td>\n",
       "    </tr>\n",
       "    <tr>\n",
       "      <th>67512</th>\n",
       "      <td>67513</td>\n",
       "      <td>B009GHI6I6</td>\n",
       "      <td>A3BLP7LRNCAT2Y</td>\n",
       "      <td>Liliana \"maccentris\"</td>\n",
       "      <td>2</td>\n",
       "      <td>4</td>\n",
       "      <td>1251763200</td>\n",
       "      <td>Not minced, this is ground beef</td>\n",
       "      <td>Although this seems like a great product it is...</td>\n",
       "      <td>0</td>\n",
       "    </tr>\n",
       "    <tr>\n",
       "      <th>67514</th>\n",
       "      <td>67515</td>\n",
       "      <td>B009GHI6I6</td>\n",
       "      <td>A2ISKAWUPGGOLZ</td>\n",
       "      <td>M. S. Handley</td>\n",
       "      <td>0</td>\n",
       "      <td>1</td>\n",
       "      <td>1310774400</td>\n",
       "      <td>Kitty Junk Food</td>\n",
       "      <td>We have five cats - one an elderly cat of 15 y...</td>\n",
       "      <td>0</td>\n",
       "    </tr>\n",
       "    <tr>\n",
       "      <th>67515</th>\n",
       "      <td>67516</td>\n",
       "      <td>B009GHI6I6</td>\n",
       "      <td>A3TVZM3ZIXG8YW</td>\n",
       "      <td>christopher hayes</td>\n",
       "      <td>0</td>\n",
       "      <td>2</td>\n",
       "      <td>1291420800</td>\n",
       "      <td>Filler food is empty, leaves your cat always n...</td>\n",
       "      <td>This review will make me sound really stupid, ...</td>\n",
       "      <td>0</td>\n",
       "    </tr>\n",
       "    <tr>\n",
       "      <th>67516</th>\n",
       "      <td>67517</td>\n",
       "      <td>B009GHI6I6</td>\n",
       "      <td>A22UFBP0KL3KQB</td>\n",
       "      <td>A. Ali</td>\n",
       "      <td>0</td>\n",
       "      <td>3</td>\n",
       "      <td>1276041600</td>\n",
       "      <td>All By-Product &amp; Corn -- Don't Waste Your Money!</td>\n",
       "      <td>I made the mistake of believing that Science D...</td>\n",
       "      <td>0</td>\n",
       "    </tr>\n",
       "    <tr>\n",
       "      <th>1477</th>\n",
       "      <td>1478</td>\n",
       "      <td>B009UOFU20</td>\n",
       "      <td>AJVB004EB0MVK</td>\n",
       "      <td>D. Christofferson</td>\n",
       "      <td>0</td>\n",
       "      <td>0</td>\n",
       "      <td>1345852800</td>\n",
       "      <td>weak coffee not good for a premium product and...</td>\n",
       "      <td>This coffee supposedly is premium, it tastes w...</td>\n",
       "      <td>0</td>\n",
       "    </tr>\n",
       "  </tbody>\n",
       "</table>\n",
       "<p>5648 rows × 10 columns</p>\n",
       "</div>"
      ],
      "text/plain": [
       "            Id    ...    new_score\n",
       "15030    15031    ...            0\n",
       "15028    15029    ...            1\n",
       "15026    15027    ...            1\n",
       "15024    15025    ...            1\n",
       "15023    15024    ...            1\n",
       "15029    15030    ...            1\n",
       "15027    15028    ...            1\n",
       "15025    15026    ...            1\n",
       "139373  139374    ...            0\n",
       "139377  139378    ...            0\n",
       "139374  139375    ...            0\n",
       "139375  139376    ...            0\n",
       "40916    40917    ...            0\n",
       "83853    83854    ...            0\n",
       "83847    83848    ...            0\n",
       "56481    56482    ...            0\n",
       "102692  102693    ...            0\n",
       "2336      2337    ...            1\n",
       "20704    20705    ...            0\n",
       "29          30    ...            1\n",
       "4677      4678    ...            1\n",
       "2323      2324    ...            0\n",
       "2309      2310    ...            0\n",
       "10381    10382    ...            1\n",
       "10359    10360    ...            1\n",
       "15527    15528    ...            1\n",
       "15597    15598    ...            1\n",
       "15560    15561    ...            0\n",
       "15554    15555    ...            0\n",
       "15556    15557    ...            0\n",
       "...        ...    ...          ...\n",
       "133170  133171    ...            0\n",
       "133023  133024    ...            0\n",
       "133033  133034    ...            0\n",
       "132966  132967    ...            0\n",
       "133048  133049    ...            0\n",
       "133150  133151    ...            0\n",
       "132964  132965    ...            0\n",
       "133157  133158    ...            0\n",
       "133208  133209    ...            0\n",
       "132958  132959    ...            0\n",
       "102073  102074    ...            0\n",
       "5439      5440    ...            1\n",
       "5438      5439    ...            1\n",
       "31772    31773    ...            0\n",
       "8901      8902    ...            1\n",
       "8899      8900    ...            1\n",
       "8898      8899    ...            1\n",
       "8900      8901    ...            0\n",
       "141210  141211    ...            0\n",
       "85007    85008    ...            0\n",
       "85005    85006    ...            0\n",
       "67507    67508    ...            0\n",
       "67508    67509    ...            0\n",
       "67509    67510    ...            0\n",
       "67511    67512    ...            0\n",
       "67512    67513    ...            0\n",
       "67514    67515    ...            0\n",
       "67515    67516    ...            0\n",
       "67516    67517    ...            0\n",
       "1477      1478    ...            0\n",
       "\n",
       "[5648 rows x 10 columns]"
      ]
     },
     "execution_count": 12,
     "metadata": {},
     "output_type": "execute_result"
    }
   ],
   "source": [
    "# This gives the rows which are duplicated on the bases if text\n",
    "data_50[data_50.duplicated(\"Text\")]"
   ]
  },
  {
   "cell_type": "code",
   "execution_count": 13,
   "metadata": {},
   "outputs": [
    {
     "data": {
      "text/html": [
       "<div>\n",
       "<style scoped>\n",
       "    .dataframe tbody tr th:only-of-type {\n",
       "        vertical-align: middle;\n",
       "    }\n",
       "\n",
       "    .dataframe tbody tr th {\n",
       "        vertical-align: top;\n",
       "    }\n",
       "\n",
       "    .dataframe thead th {\n",
       "        text-align: right;\n",
       "    }\n",
       "</style>\n",
       "<table border=\"1\" class=\"dataframe\">\n",
       "  <thead>\n",
       "    <tr style=\"text-align: right;\">\n",
       "      <th></th>\n",
       "      <th>Id</th>\n",
       "      <th>ProductId</th>\n",
       "      <th>UserId</th>\n",
       "      <th>ProfileName</th>\n",
       "      <th>HelpfulnessNumerator</th>\n",
       "      <th>HelpfulnessDenominator</th>\n",
       "      <th>Time</th>\n",
       "      <th>Summary</th>\n",
       "      <th>Text</th>\n",
       "      <th>new_score</th>\n",
       "    </tr>\n",
       "  </thead>\n",
       "  <tbody>\n",
       "    <tr>\n",
       "      <th>15030</th>\n",
       "      <td>15031</td>\n",
       "      <td>B0000CDBRZ</td>\n",
       "      <td>A253F3QA4WHGXU</td>\n",
       "      <td>Robert Hefferle \"HEFF\"</td>\n",
       "      <td>1</td>\n",
       "      <td>3</td>\n",
       "      <td>1319155200</td>\n",
       "      <td>Vegetable seasoning very spicy</td>\n",
       "      <td>Paul Prudhomme makes great seafood seasoning a...</td>\n",
       "      <td>0</td>\n",
       "    </tr>\n",
       "    <tr>\n",
       "      <th>15043</th>\n",
       "      <td>15044</td>\n",
       "      <td>B0000CDBRY</td>\n",
       "      <td>A253F3QA4WHGXU</td>\n",
       "      <td>Robert Hefferle \"HEFF\"</td>\n",
       "      <td>1</td>\n",
       "      <td>3</td>\n",
       "      <td>1319155200</td>\n",
       "      <td>Vegetable seasoning very spicy</td>\n",
       "      <td>Paul Prudhomme makes great seafood seasoning a...</td>\n",
       "      <td>0</td>\n",
       "    </tr>\n",
       "    <tr>\n",
       "      <th>15370</th>\n",
       "      <td>15371</td>\n",
       "      <td>B0000CDBRP</td>\n",
       "      <td>A253F3QA4WHGXU</td>\n",
       "      <td>Robert Hefferle \"HEFF\"</td>\n",
       "      <td>0</td>\n",
       "      <td>0</td>\n",
       "      <td>1319155200</td>\n",
       "      <td>BEST SEAFOOD SEASONING AVAILABLE</td>\n",
       "      <td>Have used Paul Prudhomme's Seafood Seasoning f...</td>\n",
       "      <td>1</td>\n",
       "    </tr>\n",
       "    <tr>\n",
       "      <th>238347</th>\n",
       "      <td>238348</td>\n",
       "      <td>B0057JF92S</td>\n",
       "      <td>A253F3QA4WHGXU</td>\n",
       "      <td>Robert Hefferle \"HEFF\"</td>\n",
       "      <td>0</td>\n",
       "      <td>0</td>\n",
       "      <td>1350864000</td>\n",
       "      <td>QUINN POPCORN</td>\n",
       "      <td>Tried Lemon &amp; Sea Salt and Parmesan &amp; Rosemary...</td>\n",
       "      <td>0</td>\n",
       "    </tr>\n",
       "    <tr>\n",
       "      <th>387295</th>\n",
       "      <td>387296</td>\n",
       "      <td>B0000CDBRQ</td>\n",
       "      <td>A253F3QA4WHGXU</td>\n",
       "      <td>Robert Hefferle \"HEFF\"</td>\n",
       "      <td>0</td>\n",
       "      <td>0</td>\n",
       "      <td>1319155200</td>\n",
       "      <td>BEST SEAFOOD SEASONING AVAILABLE</td>\n",
       "      <td>Have used Paul Prudhomme's Seafood Seasoning f...</td>\n",
       "      <td>1</td>\n",
       "    </tr>\n",
       "    <tr>\n",
       "      <th>387353</th>\n",
       "      <td>387354</td>\n",
       "      <td>B0000CDBRN</td>\n",
       "      <td>A253F3QA4WHGXU</td>\n",
       "      <td>Robert Hefferle \"HEFF\"</td>\n",
       "      <td>0</td>\n",
       "      <td>0</td>\n",
       "      <td>1327276800</td>\n",
       "      <td>SALMON MAGIC</td>\n",
       "      <td>I really like all Paul Prudhomme seasonings. S...</td>\n",
       "      <td>1</td>\n",
       "    </tr>\n",
       "    <tr>\n",
       "      <th>387371</th>\n",
       "      <td>387372</td>\n",
       "      <td>B0000CDBRM</td>\n",
       "      <td>A253F3QA4WHGXU</td>\n",
       "      <td>Robert Hefferle \"HEFF\"</td>\n",
       "      <td>0</td>\n",
       "      <td>0</td>\n",
       "      <td>1327276800</td>\n",
       "      <td>SALMON MAGIC</td>\n",
       "      <td>I really like all Paul Prudhomme seasonings. S...</td>\n",
       "      <td>1</td>\n",
       "    </tr>\n",
       "    <tr>\n",
       "      <th>523795</th>\n",
       "      <td>523796</td>\n",
       "      <td>B0062MZU3W</td>\n",
       "      <td>A253F3QA4WHGXU</td>\n",
       "      <td>Robert Hefferle \"HEFF\"</td>\n",
       "      <td>0</td>\n",
       "      <td>0</td>\n",
       "      <td>1327276800</td>\n",
       "      <td>SALMON MAGIC</td>\n",
       "      <td>I really like all Paul Prudhomme seasonings. S...</td>\n",
       "      <td>1</td>\n",
       "    </tr>\n",
       "  </tbody>\n",
       "</table>\n",
       "</div>"
      ],
      "text/plain": [
       "            Id    ...    new_score\n",
       "15030    15031    ...            0\n",
       "15043    15044    ...            0\n",
       "15370    15371    ...            1\n",
       "238347  238348    ...            0\n",
       "387295  387296    ...            1\n",
       "387353  387354    ...            1\n",
       "387371  387372    ...            1\n",
       "523795  523796    ...            1\n",
       "\n",
       "[8 rows x 10 columns]"
      ]
     },
     "execution_count": 13,
     "metadata": {},
     "output_type": "execute_result"
    }
   ],
   "source": [
    "# Lets look into a row \n",
    "data[data[\"UserId\"] == \"A253F3QA4WHGXU\"]\n"
   ]
  },
  {
   "cell_type": "markdown",
   "metadata": {},
   "source": [
    "If we saw the purchases of the userID  - \"A253F3QA4WHGXU\" . Many comments are repeated .\n",
    "One may be curious to know that why is text dupicated. We see that the ProductId is different \n",
    "Well these are the products for purchased - \n",
    "https://www.amazon.com/Magic-Seasoning-Blends-BHBUST051718A3997-Vegetable/dp/B0000CDBRY\n",
    "\n",
    "https://www.amazon.com/Magic-Seasoning-Blends-BHBUST051718A3997-Vegetable/dp/B0000CDBRZ\n",
    "This implies that the consumer bought those variants of the product and review is displayed for both the products \n",
    "ie.different variants of the product."
   ]
  },
  {
   "cell_type": "code",
   "execution_count": 14,
   "metadata": {},
   "outputs": [],
   "source": [
    "data_50=data_50.drop_duplicates(subset={\"UserId\",\"ProfileName\",\"Time\",\"Text\"}, keep='first', inplace=False)"
   ]
  },
  {
   "cell_type": "markdown",
   "metadata": {},
   "source": [
    "HelpfulnessNumerator can't be greater than HelpfulnessDenominator.\n",
    "As\n",
    "HelpfulnessNumerator = Number of users who found the review helpful\n",
    "HelpfulnessDenominator =Number of users who indicated whether they found the review helpful or not\n"
   ]
  },
  {
   "cell_type": "code",
   "execution_count": 15,
   "metadata": {},
   "outputs": [],
   "source": [
    "data_50=data_50[data_50.HelpfulnessNumerator<=data_50.HelpfulnessDenominator]"
   ]
  },
  {
   "cell_type": "code",
   "execution_count": 16,
   "metadata": {},
   "outputs": [],
   "source": [
    "# Creating a backup\n",
    "raw = data_50"
   ]
  },
  {
   "cell_type": "markdown",
   "metadata": {},
   "source": [
    "# Text Processing"
   ]
  },
  {
   "cell_type": "markdown",
   "metadata": {},
   "source": [
    "Now we will process our most important feature \"Text\". The Preprocessing here is done in 3 stages \n",
    "\n",
    "1)RegexpTokenizer - This helps us to filter our data .Since we don't want our text to have html tags and punctuation marks .  \n",
    "\n",
    "2)Stop Words -  Some words like 'the','a','not' are very frequent in our language . Therefore we remove them \n",
    "Caution ! Here if we remove negation such as not,don't might change the meaning of the sentence. Therefore we will avoid removing them\n",
    "\n",
    "3)Stemming - In order to simplify our text we will use stemming. For examaple running,runs,run after stemmming becomes run.This helps to compress our text . "
   ]
  },
  {
   "cell_type": "code",
   "execution_count": 17,
   "metadata": {},
   "outputs": [],
   "source": [
    "tokenizer = RegexpTokenizer(\"[a-zA-Z@]+\") # We only want words in text as punctuation and numbers are not helpful\n",
    "en_stopwords = set(stopwords.words(\"english\"))\n",
    "ss = SnowballStemmer(\"english\")\n",
    "\n",
    "\n",
    "stop = stopwords.words('english') \n",
    "\n",
    "excluding = ['against','not','don', \"don't\",'ain', 'aren', \"aren't\", 'couldn', \"couldn't\", 'didn', \"didn't\",\n",
    "             'doesn', \"doesn't\", 'hadn', \"hadn't\", 'hasn', \"hasn't\", 'haven', \"haven't\", 'isn', \"isn't\", \n",
    "             'mightn', \"mightn't\", 'mustn', \"mustn't\", 'needn', \"needn't\",'shouldn', \"shouldn't\", 'wasn',\n",
    "             \"wasn't\", 'weren', \"weren't\", 'won', \"won't\", 'wouldn', \"wouldn't\"]\n",
    "stop = [words for words in stop if words not in excluding]"
   ]
  },
  {
   "cell_type": "code",
   "execution_count": 18,
   "metadata": {},
   "outputs": [],
   "source": [
    "def clean_up(sentence):\n",
    "    \n",
    "    \n",
    "    sentence  = tokenizer.tokenize(sentence) # Conerting in regualr expression\n",
    "    sentence = [ss.stem(w) for w in sentence if w not in stop  ]  # Stemming and removing stop words\n",
    "    return \" \".join(sentence) # returning the sentence in the form of a string"
   ]
  },
  {
   "cell_type": "code",
   "execution_count": 19,
   "metadata": {},
   "outputs": [],
   "source": [
    "data_50[\"Clean_Text\"] = data_50[\"Text\"].apply(clean_up)"
   ]
  },
  {
   "cell_type": "code",
   "execution_count": 20,
   "metadata": {},
   "outputs": [
    {
     "name": "stdout",
     "output_type": "stream",
     "text": [
      "Text ===  Product arrived labeled as Jumbo Salted Peanuts...the peanuts were actually small sized unsalted. Not sure if this was an error or if the vendor intended to represent the product as \"Jumbo\".\n",
      "****************************************************************************************************\n",
      "Clean_Text ===  product arriv label jumbo salt peanut peanut actual small size unsalt not sure error vendor intend repres product jumbo\n"
     ]
    }
   ],
   "source": [
    "print(\"Text === \",data_50[\"Text\"][1])\n",
    "print(\"*\"*100)\n",
    "print(\"Clean_Text === \",data_50[\"Clean_Text\"][1])"
   ]
  },
  {
   "cell_type": "code",
   "execution_count": 21,
   "metadata": {},
   "outputs": [],
   "source": [
    "X = data_50[\"Clean_Text\"]\n",
    "y = data_50[\"new_score\"]"
   ]
  },
  {
   "cell_type": "code",
   "execution_count": 22,
   "metadata": {},
   "outputs": [],
   "source": [
    "X_train,X_test,Y_train,Y_test = train_test_split(X,y,test_size = 0.3,random_state=2)"
   ]
  },
  {
   "cell_type": "code",
   "execution_count": 23,
   "metadata": {},
   "outputs": [
    {
     "name": "stdout",
     "output_type": "stream",
     "text": [
      "Train Data Size:  (31057,)\n",
      "Test Data Size:  (13311,)\n",
      "Train Data Size:  (31057,)\n",
      "Test Data Size:  (13311,)\n"
     ]
    }
   ],
   "source": [
    "print(\"Train Data Size: \",X_train.shape)\n",
    "print(\"Test Data Size: \",X_test.shape)\n",
    "\n",
    "print(\"Train Data Size: \",Y_train.shape)\n",
    "print(\"Test Data Size: \",Y_test.shape)"
   ]
  },
  {
   "cell_type": "markdown",
   "metadata": {},
   "source": [
    "# BOW "
   ]
  },
  {
   "cell_type": "code",
   "execution_count": 24,
   "metadata": {},
   "outputs": [
    {
     "name": "stdout",
     "output_type": "stream",
     "text": [
      "the type of count vectorizer  <class 'scipy.sparse.csr.csr_matrix'>\n",
      "the shape of out text BOW vectorizer  (31057, 590108)\n",
      "the number of unique words  590108\n"
     ]
    }
   ],
   "source": [
    "count_vect = CountVectorizer(ngram_range=(1,2)) #in scikit-learn\n",
    "\n",
    "X_train_bow = count_vect.fit_transform(X_train) #\n",
    "X_test_bow = count_vect.transform(X_test)#\n",
    "print(\"the type of count vectorizer \",type(X_train_bow))\n",
    "print(\"the shape of out text BOW vectorizer \",X_train_bow.get_shape())\n",
    "print(\"the number of unique words \", X_train_bow.get_shape()[1])"
   ]
  },
  {
   "cell_type": "code",
   "execution_count": 25,
   "metadata": {},
   "outputs": [],
   "source": [
    "from sklearn import preprocessing\n",
    "X_train_bow = preprocessing.normalize(X_train_bow)\n",
    "X_test_bow = preprocessing.normalize(X_test_bow)"
   ]
  },
  {
   "cell_type": "markdown",
   "metadata": {},
   "source": [
    "Since amazon is an internet company .The data is constantly being generated in the form of reviews here. Therefore TimeSeriesSplit would advantageous here.\n",
    "\n",
    "This is not the regular k-fold cross validation.\n",
    "It requires training with gradually more and more data\n",
    "The performance is computed using the mean of all the folds, like k-fold cross validation\n",
    "As more and more (or less and less) data is used by time series cross validation, it is common to find models having significantly worse scores than models with lot of data\n",
    "It allows to find structural changes in data"
   ]
  },
  {
   "cell_type": "code",
   "execution_count": 26,
   "metadata": {},
   "outputs": [],
   "source": [
    "tscv = TimeSeriesSplit(n_splits=10)"
   ]
  },
  {
   "cell_type": "markdown",
   "metadata": {},
   "source": [
    "For Logistic Regression RandomizedSearchCV works better than GridSearchCv.\n",
    "\n",
    "Here I am taking \"Precision\" as the metric .The reason for such is ,Amazon would be more concerned about the products with negative reviews rather than positive reviews. This means we do not want to predict any review   positive which is actually negative i.e Fasle Postive.Our aim would be to reduce False Positives . \n",
    "\n",
    "Precision = TP/TP+FP\n",
    "\n",
    "If False Positive is less then our precision will increase.Therefore here my objective is to increase precision"
   ]
  },
  {
   "cell_type": "code",
   "execution_count": 27,
   "metadata": {},
   "outputs": [
    {
     "name": "stdout",
     "output_type": "stream",
     "text": [
      "Best C and penalty {'penalty': 'l2', 'C': 100}\n",
      "precision on train data 89.85754866870302\n"
     ]
    }
   ],
   "source": [
    "tuned_parameters = { 'C': [10**-4, 10**-2, 10**-1, 10**0, 10**1, 10**2, 10**4],\n",
    "              'penalty':['l1','l2']}\n",
    "model_precision = RandomizedSearchCV(LogisticRegression(n_jobs = -1), tuned_parameters, cv = tscv,\n",
    "                     scoring = \"precision\", n_jobs = -1)\n",
    "model_precision.fit(X_train_bow, Y_train)\n",
    "\n",
    "print(\"Best C and penalty\",model_precision.best_params_)\n",
    "print(\"precision on train data\",model_precision.best_score_*100)"
   ]
  },
  {
   "cell_type": "markdown",
   "metadata": {},
   "source": [
    "Well here our optimal λ is 10000 with L2 regularistion"
   ]
  },
  {
   "cell_type": "code",
   "execution_count": 28,
   "metadata": {},
   "outputs": [],
   "source": [
    "clf_bow = LogisticRegression(C = 10000,penalty=\"l2\")\n",
    "clf_bow.fit(X_train_bow,Y_train)\n",
    "pred_train =clf_bow.predict(X_train_bow)\n",
    "pred_test = clf_bow.predict(X_test_bow)\n",
    "\n",
    "\n",
    "\n"
   ]
  },
  {
   "cell_type": "code",
   "execution_count": 29,
   "metadata": {},
   "outputs": [],
   "source": [
    "pred_train_proba = clf_bow.predict_proba(X_train_bow)\n",
    "pred_test_proba = clf_bow.predict_proba(X_test_bow)"
   ]
  },
  {
   "cell_type": "code",
   "execution_count": 30,
   "metadata": {
    "scrolled": false
   },
   "outputs": [
    {
     "data": {
      "image/png": "[encoded data removed]",
      "text/plain": [
       "<Figure size 432x288 with 2 Axes>"
      ]
     },
     "metadata": {
      "needs_background": "light"
     },
     "output_type": "display_data"
    }
   ],
   "source": [
    "\n",
    "cm_bow = confusion_matrix(Y_test, pred_test)\n",
    "\n",
    "import seaborn as sns\n",
    "class_label = [\"negative\", \"positive\"]\n",
    "df_cm = pd.DataFrame(cm_bow, index = class_label, columns = class_label)\n",
    "sns.heatmap(df_cm, annot = True, fmt = \"d\")\n",
    "plt.title(\"Confusiion Matrix\")\n",
    "plt.xlabel(\"Predicted Label\")\n",
    "plt.ylabel(\"True Label\")\n",
    "plt.show()"
   ]
  },
  {
   "cell_type": "markdown",
   "metadata": {},
   "source": [
    "Precision is a measure of result relevancy,\n",
    "While recall is a measure of how many truly relevant results are returned."
   ]
  },
  {
   "cell_type": "code",
   "execution_count": 31,
   "metadata": {},
   "outputs": [
    {
     "name": "stdout",
     "output_type": "stream",
     "text": [
      "TNR for Test =  0.9051655205501359\n",
      "FPR for Test =  0.09483447944986406\n"
     ]
    }
   ],
   "source": [
    "print('TNR for Test = ',(cm_bow[0][0])/(cm_bow[0][0] + cm_bow[1][0]) )\n",
    "print('FPR for Test = ',(cm_bow[1][0])/(cm_bow[1][0]+cm_bow[0][0]))"
   ]
  },
  {
   "cell_type": "markdown",
   "metadata": {},
   "source": [
    "Well here my FPR is quite low which is good but this may be because of the balanced data. Let us check if we are given an imbalanced data, then what our model predicts"
   ]
  },
  {
   "cell_type": "code",
   "execution_count": 32,
   "metadata": {},
   "outputs": [],
   "source": [
    "data_test = data[70000:80000]\n",
    "data_test[\"Clean_review\"] = data_test[\"Text\"].apply(clean_up)\n"
   ]
  },
  {
   "cell_type": "code",
   "execution_count": 33,
   "metadata": {},
   "outputs": [],
   "source": [
    "X_test_bow_1 = count_vect.transform(data_test[\"Clean_review\"])\n",
    "y1 = data_test[\"new_score\"]\n",
    "X_test_bow_1 = preprocessing.normalize(X_test_bow_1)"
   ]
  },
  {
   "cell_type": "code",
   "execution_count": 34,
   "metadata": {},
   "outputs": [],
   "source": [
    "pred_test_1 = clf_bow.predict(X_test_bow_1)\n",
    "pred_test_1_proba = clf_bow.predict_proba(X_test_bow_1)"
   ]
  },
  {
   "cell_type": "code",
   "execution_count": 35,
   "metadata": {
    "scrolled": true
   },
   "outputs": [
    {
     "name": "stdout",
     "output_type": "stream",
     "text": [
      "roc_auc_score --  0.9285855037700252\n",
      "Precision-- 0.9938625750500334\n",
      "Recall-- 0.88604734150113\n"
     ]
    }
   ],
   "source": [
    "print(\"roc_auc_score -- \",roc_auc_score(y1,pred_test_1))\n",
    "print(\"Precision--\",precision_score(y1,pred_test_1))\n",
    "print(\"Recall--\",recall_score(y1,pred_test_1))"
   ]
  },
  {
   "cell_type": "markdown",
   "metadata": {},
   "source": [
    "The scores are pretty fine . That means model works well. Let us investigate into FPR and TNR"
   ]
  },
  {
   "cell_type": "code",
   "execution_count": 36,
   "metadata": {},
   "outputs": [
    {
     "data": {
      "text/plain": [
       "array([[1547,   46],\n",
       "       [ 958, 7449]])"
      ]
     },
     "execution_count": 36,
     "metadata": {},
     "output_type": "execute_result"
    }
   ],
   "source": [
    "cm = confusion_matrix(y1, pred_test_1)\n",
    "cm"
   ]
  },
  {
   "cell_type": "code",
   "execution_count": 37,
   "metadata": {},
   "outputs": [
    {
     "name": "stdout",
     "output_type": "stream",
     "text": [
      "TNR for Test =  0.617564870259481\n",
      "FPR for Test =  0.38243512974051896\n"
     ]
    }
   ],
   "source": [
    "print('TNR for Test = ',(cm[0][0])/(cm[0][0] + cm[1][0]) )\n",
    "print('FPR for Test = ',cm[1][0]/(cm[1][0]+cm[0][0]) )"
   ]
  },
  {
   "cell_type": "code",
   "execution_count": 38,
   "metadata": {},
   "outputs": [
    {
     "data": {
      "image/png": "[encoded data removed]",
      "text/plain": [
       "<Figure size 432x288 with 1 Axes>"
      ]
     },
     "metadata": {
      "needs_background": "light"
     },
     "output_type": "display_data"
    }
   ],
   "source": [
    "fpr, tpr, threshold  = roc_curve(Y_train, pred_train_proba[:,1])\n",
    "fpr1, tpr1, threshold1 = roc_curve(Y_test, pred_test_proba[:,1])\n",
    "fpr2, tpr2, threshold2 =roc_curve(y1,pred_test_1_proba[:,1])\n",
    "\n",
    "plt.plot(fpr,tpr, label = 'Train AUC = ' + str(auc(fpr,tpr)))\n",
    "plt.plot(fpr1,tpr1, label = 'Test AUC = '+ str(auc(fpr1,tpr1)))\n",
    "plt.plot(fpr2,tpr2, label = \"Imbalanced AUC = \"+ str(auc(fpr2,tpr2)))\n",
    "\n",
    "\n",
    "plt.ylim(0,1)\n",
    "plt.legend(bbox_to_anchor=(1.05, 1), loc='upper left', borderaxespad=0.)\n",
    "plt.grid(True)\n",
    "plt.title(\"ROC Curve for Train and Test Data\\n\")\n",
    "plt.xlabel(\"FPR\")\n",
    "plt.ylabel(\"TPR\")\n",
    "plt.show()"
   ]
  },
  {
   "cell_type": "markdown",
   "metadata": {},
   "source": [
    "Well our Bag of words Logistic regression Model seems to work fine on the imbalanced data. Though FPR should be low ."
   ]
  },
  {
   "cell_type": "markdown",
   "metadata": {},
   "source": [
    "# TF IDF"
   ]
  },
  {
   "cell_type": "code",
   "execution_count": 39,
   "metadata": {},
   "outputs": [],
   "source": [
    "vectorizer = TfidfVectorizer(ngram_range=(1,2))\n",
    "X_train_Tfidf = vectorizer.fit_transform(X_train)\n",
    "X_test_Tfidf = vectorizer.transform(X_test)"
   ]
  },
  {
   "cell_type": "code",
   "execution_count": 40,
   "metadata": {
    "scrolled": false
   },
   "outputs": [
    {
     "name": "stderr",
     "output_type": "stream",
     "text": [
      "/opt/conda/lib/python3.6/site-packages/sklearn/linear_model/logistic.py:1544: UserWarning: 'n_jobs' > 1 does not have any effect when 'solver' is set to 'liblinear'. Got 'n_jobs' = 4.\n",
      "  \" = {}.\".format(effective_n_jobs(self.n_jobs)))\n"
     ]
    },
    {
     "name": "stdout",
     "output_type": "stream",
     "text": [
      "Best C and penalty {'penalty': 'l2', 'C': 10000}\n",
      "precision on train data 90.47006847774625\n"
     ]
    }
   ],
   "source": [
    "tuned_parameters = { 'C': [10**-4, 10**-2, 10**-1, 10**0, 10**1, 10**2, 10**4],\n",
    "              'penalty':['l1','l2']}\n",
    "model_precision = RandomizedSearchCV(LogisticRegression(n_jobs = -1), tuned_parameters, cv = tscv,\n",
    "                     scoring = \"precision\", n_jobs = -1)\n",
    "model_precision.fit(X_train_Tfidf, Y_train)\n",
    "\n",
    "print(\"Best C and penalty\",model_precision.best_params_)\n",
    "print(\"precision on train data\",model_precision.best_score_*100)"
   ]
  },
  {
   "cell_type": "code",
   "execution_count": 41,
   "metadata": {},
   "outputs": [],
   "source": [
    "clf_tf = LogisticRegression(C = 100,penalty=\"l2\")\n",
    "clf_tf.fit(X_train_Tfidf,Y_train)\n",
    "pred_test_tf = clf_tf.predict(X_test_Tfidf)\n"
   ]
  },
  {
   "cell_type": "code",
   "execution_count": 42,
   "metadata": {},
   "outputs": [],
   "source": [
    "pred_train_prob_tf = clf_tf.predict_proba(X_train_bow)\n",
    "pred_test_prob_tf = clf_tf.predict_proba(X_test_bow)"
   ]
  },
  {
   "cell_type": "code",
   "execution_count": 43,
   "metadata": {},
   "outputs": [
    {
     "data": {
      "image/png": "[encoded data removed]",
      "text/plain": [
       "<Figure size 432x288 with 2 Axes>"
      ]
     },
     "metadata": {
      "needs_background": "light"
     },
     "output_type": "display_data"
    }
   ],
   "source": [
    "\n",
    "cm_tf = confusion_matrix(Y_test, pred_test_tf)\n",
    "\n",
    "import seaborn as sns\n",
    "class_label = [\"negative\", \"positive\"]\n",
    "df_cm = pd.DataFrame(cm_tf, index = class_label, columns = class_label)\n",
    "sns.heatmap(df_cm, annot = True, fmt = \"d\")\n",
    "plt.title(\"Confusion Matrix\")\n",
    "plt.xlabel(\"Predicted Label\")\n",
    "plt.ylabel(\"True Label\")\n",
    "plt.show()"
   ]
  },
  {
   "cell_type": "code",
   "execution_count": 44,
   "metadata": {},
   "outputs": [
    {
     "name": "stdout",
     "output_type": "stream",
     "text": [
      "TNR for Test =  0.9095710627400768\n",
      "FPR for Test =  0.09042893725992318\n"
     ]
    }
   ],
   "source": [
    "print('TNR for Test = ',(cm_tf[0][0])/(cm_tf[0][0] + cm_tf[1][0]) )\n",
    "print('FPR for Test = ',cm_tf[1][0]/(cm_tf[1][0]+cm_tf[0][0]) )"
   ]
  },
  {
   "cell_type": "code",
   "execution_count": 45,
   "metadata": {},
   "outputs": [
    {
     "name": "stdout",
     "output_type": "stream",
     "text": [
      "Scores on Balanced Test data  \n",
      "roc_auc_score --  0.9138484990459741\n",
      "Precision-- 0.9183066685544387\n",
      "Recall-- 0.9198695220536094\n"
     ]
    }
   ],
   "source": [
    "print(\"Scores on Balanced Test data  \")\n",
    "print(\"roc_auc_score -- \",roc_auc_score(Y_test,pred_test_tf))\n",
    "print(\"Precision--\",precision_score(Y_test,pred_test_tf))\n",
    "print(\"Recall--\",recall_score(Y_test,pred_test_tf))"
   ]
  },
  {
   "cell_type": "markdown",
   "metadata": {},
   "source": [
    "The metrics show us that this model is good. Let us check the model on imbanced data as done in BOW - Logistic regression\n"
   ]
  },
  {
   "cell_type": "code",
   "execution_count": 46,
   "metadata": {},
   "outputs": [],
   "source": [
    "X_test_Tfidf_1 = vectorizer.transform(data_test[\"Clean_review\"])\n"
   ]
  },
  {
   "cell_type": "code",
   "execution_count": 47,
   "metadata": {},
   "outputs": [],
   "source": [
    "pred_Tfidf =clf_tf.predict(X_test_Tfidf_1 )\n",
    "pred_Tfidf_proba = clf_tf.predict_proba(X_test_Tfidf_1)"
   ]
  },
  {
   "cell_type": "code",
   "execution_count": 48,
   "metadata": {},
   "outputs": [
    {
     "name": "stdout",
     "output_type": "stream",
     "text": [
      "Scores on Imbalanced Test data  \n",
      "roc_auc_score --  0.9310569518376571\n",
      "Precision-- 0.9941520467836257\n",
      "Recall-- 0.8897347448554775\n"
     ]
    }
   ],
   "source": [
    "print(\"Scores on Imbalanced Test data  \")\n",
    "print(\"roc_auc_score -- \",roc_auc_score(y1,pred_Tfidf))\n",
    "print(\"Precision--\",precision_score(y1,pred_Tfidf))\n",
    "print(\"Recall--\",recall_score(y1,pred_Tfidf))"
   ]
  },
  {
   "cell_type": "code",
   "execution_count": 49,
   "metadata": {},
   "outputs": [
    {
     "data": {
      "text/plain": [
       "array([[1547,   46],\n",
       "       [ 958, 7449]])"
      ]
     },
     "execution_count": 49,
     "metadata": {},
     "output_type": "execute_result"
    }
   ],
   "source": [
    "cm = confusion_matrix(y1, pred_test_1)\n",
    "cm\n"
   ]
  },
  {
   "cell_type": "code",
   "execution_count": 50,
   "metadata": {},
   "outputs": [
    {
     "name": "stdout",
     "output_type": "stream",
     "text": [
      "TNR for Test =  0.617564870259481\n",
      "FPR for Test =  0.38243512974051896\n"
     ]
    }
   ],
   "source": [
    "print('TNR for Test = ',(cm[0][0])/(cm[0][0] + cm[1][0]))\n",
    "print('FPR for Test = ',cm[1][0]/(cm[1][0]+cm[0][0]))"
   ]
  },
  {
   "cell_type": "code",
   "execution_count": 51,
   "metadata": {},
   "outputs": [],
   "source": [
    "from sklearn.metrics import roc_curve"
   ]
  },
  {
   "cell_type": "code",
   "execution_count": 52,
   "metadata": {},
   "outputs": [
    {
     "data": {
      "image/png": "[encoded data removed]",
      "text/plain": [
       "<Figure size 432x288 with 1 Axes>"
      ]
     },
     "metadata": {
      "needs_background": "light"
     },
     "output_type": "display_data"
    }
   ],
   "source": [
    "fpr, tpr, threshold  = roc_curve(Y_train, pred_train_prob_tf[:,1])\n",
    "fpr1, tpr1, threshold1 = roc_curve(Y_test, pred_test_prob_tf[:,1])\n",
    "fpr2, tpr2, threshold2 =roc_curve(y1, pred_Tfidf_proba[:,1])\n",
    "\n",
    "plt.plot(fpr,tpr, label = 'Train AUC = ' + str(auc(fpr,tpr)))\n",
    "plt.plot(fpr1,tpr1, label = 'Test AUC = '+ str(auc(fpr1,tpr1)))\n",
    "plt.plot(fpr2,tpr2, label = \"Imbalanced AUC = \"+ str(auc(fpr2,tpr2)))\n",
    "\n",
    "\n",
    "plt.ylim(0,1)\n",
    "plt.legend(bbox_to_anchor=(1.05, 1), loc='upper left', borderaxespad=0.)\n",
    "plt.grid(True)\n",
    "plt.title(\"ROC Curve for Train and Test Data\\n\")\n",
    "plt.xlabel(\"FPR\")\n",
    "plt.ylabel(\"TPR\")\n",
    "plt.show()"
   ]
  },
  {
   "cell_type": "markdown",
   "metadata": {},
   "source": [
    "MULTI-COLLINEAR CHECK(PERTUBATION TECHNIQUE)"
   ]
  },
  {
   "cell_type": "code",
   "execution_count": 53,
   "metadata": {},
   "outputs": [],
   "source": [
    "# Please write all the code with proper documentation0\n",
    "\n",
    "LR = clf_tf\n",
    "LR.fit(X_train_bow,Y_train)\n",
    "weight1 = LR.coef_ # weight vector\n",
    "\n",
    "# Getting new data set by addind a small noise\n",
    "new_train = X_train_bow.astype(float)\n",
    "new_train.data += np.random.uniform(-0.0001,0.0001,1 )\n",
    "\n",
    "# Fitting the model again on new data\n",
    "LR = clf_tf\n",
    "LR.fit(new_train,Y_train)\n",
    "weight2 = LR.coef_\n",
    "\n",
    "# Adding small esilon to weight vector to avoid division by 0\n",
    "weight1 += 10**-6\n",
    "weight2 += 10**-6\n",
    "\n",
    "percentage_change_vector = abs( (weight1-weight2) / (weight1) )*100\n",
    "\n",
    "\n"
   ]
  },
  {
   "cell_type": "code",
   "execution_count": 54,
   "metadata": {},
   "outputs": [
    {
     "name": "stdout",
     "output_type": "stream",
     "text": [
      "0 th percentile :  1.1656255605918027e-07\n",
      "10 th percentile :  0.001151029501565683\n",
      "20 th percentile :  0.0021609397453357148\n",
      "30 th percentile :  0.0031458343665127144\n",
      "40 th percentile :  0.0041970031617316736\n",
      "50 th percentile :  0.005496531771925758\n",
      "60 th percentile :  0.007419274231579001\n",
      "70 th percentile :  0.010274666892400081\n",
      "80 th percentile :  0.015111281108990265\n",
      "90 th percentile :  0.025523397553095274\n",
      "100 th percentile :  3573.2198112510523\n"
     ]
    },
    {
     "data": {
      "text/plain": [
       "[<matplotlib.lines.Line2D at 0x7f1086e806d8>]"
      ]
     },
     "execution_count": 54,
     "metadata": {},
     "output_type": "execute_result"
    },
    {
     "data": {
      "image/png": "[encoded data removed]",
      "text/plain": [
       "<Figure size 432x288 with 1 Axes>"
      ]
     },
     "metadata": {
      "needs_background": "light"
     },
     "output_type": "display_data"
    }
   ],
   "source": [
    "t = range(0,101,10)\n",
    "for i in t:\n",
    "    print(i, \"th percentile : \",np.percentile(percentage_change_vector,i))\n",
    "\n",
    "plt.plot(t,np.percentile(percentage_change_vector,t) )"
   ]
  },
  {
   "cell_type": "code",
   "execution_count": 55,
   "metadata": {},
   "outputs": [
    {
     "name": "stdout",
     "output_type": "stream",
     "text": [
      "Percentage of features which did not change by more than 30% is : 99.99915269747233\n"
     ]
    }
   ],
   "source": [
    "diff = (abs(weight1 - weight2)/weight1) * 100\n",
    "q = diff[np.where(diff > 30)].size\n",
    "print(\"Percentage of features which did not change by more than 30% is :\",(weight1.size - q)/weight1.size*100)"
   ]
  },
  {
   "cell_type": "markdown",
   "metadata": {},
   "source": [
    "Since only 1 % of feature changed their value more than 30 %. Therefore there is no multicolinearity"
   ]
  },
  {
   "cell_type": "markdown",
   "metadata": {},
   "source": [
    "Lets us look at feature importance"
   ]
  },
  {
   "cell_type": "code",
   "execution_count": 56,
   "metadata": {},
   "outputs": [],
   "source": [
    "LR = clf_tf\n",
    "LR.fit(X_train_bow,Y_train)\n",
    "feat_log = LR.coef_\n",
    "\n",
    "vectorizer = TfidfVectorizer(ngram_range=(1,2))\n",
    "p = vectorizer.fit_transform(X_train)\n",
    "p = pd.DataFrame(feat_log.T,columns=['+ve'])\n",
    "p['feature'] = vectorizer.get_feature_names()\n"
   ]
  },
  {
   "cell_type": "code",
   "execution_count": 57,
   "metadata": {},
   "outputs": [
    {
     "name": "stdout",
     "output_type": "stream",
     "text": [
      "Top 10  important features of positive class ['not disappoint' 'delici' 'excel' 'amaz' 'high recommend' 'not bitter'\n",
      " 'yummi' 'addict' 'perfect' 'not bad']\n"
     ]
    }
   ],
   "source": [
    "q = p.sort_values(by = '+ve',kind = 'quicksort',ascending= False)\n",
    "print(\"Top 10  important features of positive class\", np.array(q['feature'][:10]))"
   ]
  },
  {
   "cell_type": "code",
   "execution_count": 58,
   "metadata": {},
   "outputs": [
    {
     "name": "stdout",
     "output_type": "stream",
     "text": [
      "Top 10  important features of negative class ['two star' 'aw' 'not good' 'bland' 'horribl' 'not worth' 'not recommend'\n",
      " 'terribl' 'worst' 'disappoint']\n"
     ]
    }
   ],
   "source": [
    "print(\"Top 10  important features of negative class\",np.array(q.tail(10)['feature']))"
   ]
  },
  {
   "cell_type": "code",
   "execution_count": null,
   "metadata": {},
   "outputs": [],
   "source": []
  },
  {
   "cell_type": "code",
   "execution_count": null,
   "metadata": {},
   "outputs": [],
   "source": []
  }
 ],
 "metadata": {
  "kernelspec": {
   "display_name": "Python 3",
   "language": "python",
   "name": "python3"
  },
  "language_info": {
   "codemirror_mode": {
    "name": "ipython",
    "version": 3
   },
   "file_extension": ".py",
   "mimetype": "text/x-python",
   "name": "python",
   "nbconvert_exporter": "python",
   "pygments_lexer": "ipython3",
   "version": "3.6.6"
  }
 },
 "nbformat": 4,
 "nbformat_minor": 1
}
